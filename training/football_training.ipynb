{
 "cells": [
  {
   "cell_type": "code",
   "execution_count": 1,
   "id": "71a461ab",
   "metadata": {},
   "outputs": [
    {
     "name": "stdout",
     "output_type": "stream",
     "text": [
      "Collecting roboflow\n",
      "  Downloading roboflow-1.1.66-py3-none-any.whl.metadata (9.7 kB)\n",
      "Requirement already satisfied: certifi in c:\\users\\dell\\appdata\\local\\programs\\python\\python312\\lib\\site-packages (from roboflow) (2025.1.31)\n",
      "Collecting idna==3.7 (from roboflow)\n",
      "  Downloading idna-3.7-py3-none-any.whl.metadata (9.9 kB)\n",
      "Requirement already satisfied: cycler in c:\\users\\dell\\appdata\\local\\programs\\python\\python312\\lib\\site-packages (from roboflow) (0.12.1)\n",
      "Requirement already satisfied: kiwisolver>=1.3.1 in c:\\users\\dell\\appdata\\local\\programs\\python\\python312\\lib\\site-packages (from roboflow) (1.4.7)\n",
      "Requirement already satisfied: matplotlib in c:\\users\\dell\\appdata\\local\\programs\\python\\python312\\lib\\site-packages (from roboflow) (3.9.3)\n",
      "Requirement already satisfied: numpy>=1.18.5 in c:\\users\\dell\\appdata\\local\\programs\\python\\python312\\lib\\site-packages (from roboflow) (1.26.4)\n",
      "Collecting opencv-python-headless==4.10.0.84 (from roboflow)\n",
      "  Downloading opencv_python_headless-4.10.0.84-cp37-abi3-win_amd64.whl.metadata (20 kB)\n",
      "Requirement already satisfied: Pillow>=7.1.2 in c:\\users\\dell\\appdata\\local\\programs\\python\\python312\\lib\\site-packages (from roboflow) (11.0.0)\n",
      "Collecting pillow-heif>=0.18.0 (from roboflow)\n",
      "  Downloading pillow_heif-0.22.0-cp312-cp312-win_amd64.whl.metadata (9.8 kB)\n",
      "Requirement already satisfied: python-dateutil in c:\\users\\dell\\appdata\\local\\programs\\python\\python312\\lib\\site-packages (from roboflow) (2.9.0.post0)\n",
      "Requirement already satisfied: python-dotenv in c:\\users\\dell\\appdata\\local\\programs\\python\\python312\\lib\\site-packages (from roboflow) (1.1.0)\n",
      "Requirement already satisfied: requests in c:\\users\\dell\\appdata\\local\\programs\\python\\python312\\lib\\site-packages (from roboflow) (2.32.3)\n",
      "Requirement already satisfied: six in c:\\users\\dell\\appdata\\local\\programs\\python\\python312\\lib\\site-packages (from roboflow) (1.16.0)\n",
      "Requirement already satisfied: urllib3>=1.26.6 in c:\\users\\dell\\appdata\\local\\programs\\python\\python312\\lib\\site-packages (from roboflow) (2.4.0)\n",
      "Requirement already satisfied: tqdm>=4.41.0 in c:\\users\\dell\\appdata\\local\\programs\\python\\python312\\lib\\site-packages (from roboflow) (4.67.1)\n",
      "Requirement already satisfied: PyYAML>=5.3.1 in c:\\users\\dell\\appdata\\local\\programs\\python\\python312\\lib\\site-packages (from roboflow) (6.0.2)\n",
      "Collecting requests-toolbelt (from roboflow)\n",
      "  Downloading requests_toolbelt-1.0.0-py2.py3-none-any.whl.metadata (14 kB)\n",
      "Collecting filetype (from roboflow)\n",
      "  Downloading filetype-1.2.0-py2.py3-none-any.whl.metadata (6.5 kB)\n",
      "Requirement already satisfied: colorama in c:\\users\\dell\\appdata\\local\\programs\\python\\python312\\lib\\site-packages (from tqdm>=4.41.0->roboflow) (0.4.6)\n",
      "Requirement already satisfied: contourpy>=1.0.1 in c:\\users\\dell\\appdata\\local\\programs\\python\\python312\\lib\\site-packages (from matplotlib->roboflow) (1.3.1)\n",
      "Requirement already satisfied: fonttools>=4.22.0 in c:\\users\\dell\\appdata\\local\\programs\\python\\python312\\lib\\site-packages (from matplotlib->roboflow) (4.55.1)\n",
      "Requirement already satisfied: packaging>=20.0 in c:\\users\\dell\\appdata\\local\\programs\\python\\python312\\lib\\site-packages (from matplotlib->roboflow) (24.2)\n",
      "Requirement already satisfied: pyparsing>=2.3.1 in c:\\users\\dell\\appdata\\local\\programs\\python\\python312\\lib\\site-packages (from matplotlib->roboflow) (3.2.0)\n",
      "Requirement already satisfied: charset-normalizer<4,>=2 in c:\\users\\dell\\appdata\\local\\programs\\python\\python312\\lib\\site-packages (from requests->roboflow) (3.4.1)\n",
      "Downloading roboflow-1.1.66-py3-none-any.whl (86 kB)\n",
      "Downloading idna-3.7-py3-none-any.whl (66 kB)\n",
      "Downloading opencv_python_headless-4.10.0.84-cp37-abi3-win_amd64.whl (38.8 MB)\n",
      "   ---------------------------------------- 0.0/38.8 MB ? eta -:--:--\n",
      "   - -------------------------------------- 1.0/38.8 MB 5.6 MB/s eta 0:00:07\n",
      "   -- ------------------------------------- 2.4/38.8 MB 5.4 MB/s eta 0:00:07\n",
      "   --- ------------------------------------ 3.4/38.8 MB 5.2 MB/s eta 0:00:07\n",
      "   ---- ----------------------------------- 4.2/38.8 MB 4.8 MB/s eta 0:00:08\n",
      "   ----- ---------------------------------- 5.0/38.8 MB 4.7 MB/s eta 0:00:08\n",
      "   ------ --------------------------------- 6.0/38.8 MB 4.6 MB/s eta 0:00:08\n",
      "   ------- -------------------------------- 6.8/38.8 MB 4.6 MB/s eta 0:00:07\n",
      "   -------- ------------------------------- 7.9/38.8 MB 4.5 MB/s eta 0:00:07\n",
      "   --------- ------------------------------ 8.9/38.8 MB 4.5 MB/s eta 0:00:07\n",
      "   ---------- ----------------------------- 9.7/38.8 MB 4.5 MB/s eta 0:00:07\n",
      "   ----------- ---------------------------- 10.7/38.8 MB 4.5 MB/s eta 0:00:07\n",
      "   ------------ --------------------------- 11.8/38.8 MB 4.6 MB/s eta 0:00:06\n",
      "   ------------- -------------------------- 12.8/38.8 MB 4.7 MB/s eta 0:00:06\n",
      "   -------------- ------------------------- 13.9/38.8 MB 4.7 MB/s eta 0:00:06\n",
      "   --------------- ------------------------ 15.2/38.8 MB 4.7 MB/s eta 0:00:05\n",
      "   ---------------- ----------------------- 16.3/38.8 MB 4.8 MB/s eta 0:00:05\n",
      "   ----------------- ---------------------- 17.3/38.8 MB 4.8 MB/s eta 0:00:05\n",
      "   ------------------ --------------------- 17.8/38.8 MB 4.8 MB/s eta 0:00:05\n",
      "   ------------------- -------------------- 19.1/38.8 MB 4.8 MB/s eta 0:00:05\n",
      "   -------------------- ------------------- 19.9/38.8 MB 4.7 MB/s eta 0:00:04\n",
      "   --------------------- ------------------ 21.0/38.8 MB 4.7 MB/s eta 0:00:04\n",
      "   ---------------------- ----------------- 21.8/38.8 MB 4.7 MB/s eta 0:00:04\n",
      "   ----------------------- ---------------- 22.8/38.8 MB 4.7 MB/s eta 0:00:04\n",
      "   ------------------------ --------------- 23.6/38.8 MB 4.7 MB/s eta 0:00:04\n",
      "   ------------------------- -------------- 24.6/38.8 MB 4.7 MB/s eta 0:00:04\n",
      "   -------------------------- ------------- 25.7/38.8 MB 4.7 MB/s eta 0:00:03\n",
      "   --------------------------- ------------ 26.7/38.8 MB 4.7 MB/s eta 0:00:03\n",
      "   ---------------------------- ----------- 27.8/38.8 MB 4.7 MB/s eta 0:00:03\n",
      "   ----------------------------- ---------- 28.8/38.8 MB 4.7 MB/s eta 0:00:03\n",
      "   ------------------------------- -------- 30.1/38.8 MB 4.7 MB/s eta 0:00:02\n",
      "   -------------------------------- ------- 31.2/38.8 MB 4.8 MB/s eta 0:00:02\n",
      "   --------------------------------- ------ 32.2/38.8 MB 4.8 MB/s eta 0:00:02\n",
      "   ---------------------------------- ----- 33.6/38.8 MB 4.8 MB/s eta 0:00:02\n",
      "   ----------------------------------- ---- 34.6/38.8 MB 4.8 MB/s eta 0:00:01\n",
      "   ------------------------------------ --- 35.7/38.8 MB 4.8 MB/s eta 0:00:01\n",
      "   ------------------------------------- -- 36.7/38.8 MB 4.8 MB/s eta 0:00:01\n",
      "   -------------------------------------- - 37.5/38.8 MB 4.8 MB/s eta 0:00:01\n",
      "   ---------------------------------------  38.5/38.8 MB 4.8 MB/s eta 0:00:01\n",
      "   ---------------------------------------  38.5/38.8 MB 4.8 MB/s eta 0:00:01\n",
      "   ---------------------------------------- 38.8/38.8 MB 4.7 MB/s eta 0:00:00\n",
      "Downloading pillow_heif-0.22.0-cp312-cp312-win_amd64.whl (8.6 MB)\n",
      "   ---------------------------------------- 0.0/8.6 MB ? eta -:--:--\n",
      "   --- ------------------------------------ 0.8/8.6 MB 4.2 MB/s eta 0:00:02\n",
      "   -------- ------------------------------- 1.8/8.6 MB 4.4 MB/s eta 0:00:02\n",
      "   ------------- -------------------------- 2.9/8.6 MB 4.8 MB/s eta 0:00:02\n",
      "   ------------------ --------------------- 3.9/8.6 MB 4.9 MB/s eta 0:00:01\n",
      "   ------------------------ --------------- 5.2/8.6 MB 5.1 MB/s eta 0:00:01\n",
      "   ----------------------------- ---------- 6.3/8.6 MB 5.1 MB/s eta 0:00:01\n",
      "   ----------------------------------- ---- 7.6/8.6 MB 5.2 MB/s eta 0:00:01\n",
      "   ---------------------------------------- 8.6/8.6 MB 5.1 MB/s eta 0:00:00\n",
      "Downloading filetype-1.2.0-py2.py3-none-any.whl (19 kB)\n",
      "Downloading requests_toolbelt-1.0.0-py2.py3-none-any.whl (54 kB)\n",
      "Installing collected packages: filetype, pillow-heif, opencv-python-headless, idna, requests-toolbelt, roboflow\n",
      "  Attempting uninstall: idna\n",
      "    Found existing installation: idna 3.10\n",
      "    Uninstalling idna-3.10:\n",
      "      Successfully uninstalled idna-3.10\n",
      "Successfully installed filetype-1.2.0 idna-3.7 opencv-python-headless-4.10.0.84 pillow-heif-0.22.0 requests-toolbelt-1.0.0 roboflow-1.1.66\n"
     ]
    },
    {
     "name": "stderr",
     "output_type": "stream",
     "text": [
      "\n",
      "[notice] A new release of pip is available: 25.0.1 -> 25.1.1\n",
      "[notice] To update, run: python.exe -m pip install --upgrade pip\n"
     ]
    }
   ],
   "source": [
    "!pip install roboflow"
   ]
  },
  {
   "cell_type": "markdown",
   "id": "1833c98f",
   "metadata": {},
   "source": [
    "Dataset"
   ]
  },
  {
   "cell_type": "code",
   "execution_count": null,
   "id": "e4ebff25",
   "metadata": {},
   "outputs": [
    {
     "name": "stdout",
     "output_type": "stream",
     "text": [
      "loading Roboflow workspace...\n",
      "loading Roboflow project...\n"
     ]
    },
    {
     "name": "stderr",
     "output_type": "stream",
     "text": [
      "Downloading Dataset Version Zip in football-players-detection-1 to yolov5pytorch:: 100%|██████████| 148663/148663 [00:31<00:00, 4793.67it/s]"
     ]
    },
    {
     "name": "stdout",
     "output_type": "stream",
     "text": [
      "\n"
     ]
    },
    {
     "name": "stderr",
     "output_type": "stream",
     "text": [
      "\n",
      "Extracting Dataset Version Zip to football-players-detection-1 in yolov5pytorch:: 100%|██████████| 1338/1338 [00:01<00:00, 822.02it/s]\n"
     ]
    }
   ],
   "source": [
    "from roboflow import Roboflow\n",
    "rf = Roboflow(api_key=\"\")\n",
    "project = rf.workspace(\"\").project(\"\")\n",
    "version = project.version(1)\n",
    "dataset = version.download(\"yolov5\")\n",
    "                "
   ]
  },
  {
   "cell_type": "code",
   "execution_count": 4,
   "id": "8071f89a",
   "metadata": {},
   "outputs": [
    {
     "data": {
      "text/plain": [
       "'c:\\\\Users\\\\DELL\\\\Desktop\\\\Football Analysis System\\\\training\\\\football-players-detection-1'"
      ]
     },
     "execution_count": 4,
     "metadata": {},
     "output_type": "execute_result"
    }
   ],
   "source": [
    "dataset.location"
   ]
  },
  {
   "cell_type": "code",
   "execution_count": null,
   "id": "426ef3df",
   "metadata": {},
   "outputs": [
    {
     "data": {
      "text/plain": [
       "'football-players-detection-1/football-players-detection-1/valid'"
      ]
     },
     "execution_count": 6,
     "metadata": {},
     "output_type": "execute_result"
    }
   ],
   "source": [
    "import shutil\n",
    "\n",
    "shutil.move('football-players-detection-1/train','football-players-detection-1/football-players-detection-1/train')\n",
    "\n",
    "shutil.move('football-players-detection-1/test','football-players-detection-1/football-players-detection-1/test')\n",
    "\n",
    "shutil.move('football-players-detection-1/valid','football-players-detection-1/football-players-detection-1/valid')"
   ]
  },
  {
   "cell_type": "markdown",
   "id": "5bebcf23",
   "metadata": {},
   "source": [
    "Training"
   ]
  },
  {
   "cell_type": "code",
   "execution_count": null,
   "id": "afd79d96",
   "metadata": {},
   "outputs": [],
   "source": [
    "!yolo task=detect mode=train model=yolov5x.pt data={dataset.location}/data.yaml epochs=100 imgsz=640"
   ]
  },
  {
   "cell_type": "code",
   "execution_count": null,
   "id": "f0a514ad",
   "metadata": {},
   "outputs": [],
   "source": []
  }
 ],
 "metadata": {
  "kernelspec": {
   "display_name": "Python 3",
   "language": "python",
   "name": "python3"
  },
  "language_info": {
   "codemirror_mode": {
    "name": "ipython",
    "version": 3
   },
   "file_extension": ".py",
   "mimetype": "text/x-python",
   "name": "python",
   "nbconvert_exporter": "python",
   "pygments_lexer": "ipython3",
   "version": "3.12.4"
  }
 },
 "nbformat": 4,
 "nbformat_minor": 5
}
